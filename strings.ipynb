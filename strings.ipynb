{
 "cells": [
  {
   "cell_type": "code",
   "execution_count": 10,
   "metadata": {},
   "outputs": [
    {
     "name": "stdout",
     "output_type": "stream",
     "text": [
      "v i c k y  \n",
      "vicky\n",
      "gupta\n",
      "vcygpa\n",
      "atpug ykciv\n"
     ]
    },
    {
     "data": {
      "text/plain": [
       "'atpug '"
      ]
     },
     "execution_count": 10,
     "metadata": {},
     "output_type": "execute_result"
    }
   ],
   "source": [
    "name= 'vicky gupta'\n",
    "print(name[0],name[1],name[2],name[3],name[4],name[5])\n",
    "print(name[0:5])\n",
    "print(name[-5:])\n",
    "print(name[::2])\n",
    "print(name[::-1])\n",
    "name[:][::-1][:-5]\n"
   ]
  },
  {
   "cell_type": "code",
   "execution_count": 11,
   "metadata": {},
   "outputs": [
    {
     "data": {
      "text/plain": [
       "'nope nope nope nope nope nope nope nope nope nope '"
      ]
     },
     "execution_count": 11,
     "metadata": {},
     "output_type": "execute_result"
    }
   ],
   "source": [
    "'nope '*10"
   ]
  },
  {
   "cell_type": "code",
   "execution_count": 18,
   "metadata": {},
   "outputs": [
    {
     "data": {
      "text/plain": [
       "'viki lname'"
      ]
     },
     "execution_count": 18,
     "metadata": {},
     "output_type": "execute_result"
    }
   ],
   "source": [
    "fname= 'viki'\n",
    "lname= 'gupta'\n",
    "fname + ' ' + 'lname'\n"
   ]
  },
  {
   "cell_type": "code",
   "execution_count": 25,
   "metadata": {},
   "outputs": [
    {
     "name": "stdout",
     "output_type": "stream",
     "text": [
      "4\n",
      "-1\n",
      "5\n",
      "The queen went to the jungle\n",
      "The king went to the castle\n",
      "The queen went to the castle\n"
     ]
    }
   ],
   "source": [
    "sentence = 'The king went to the jungle'\n",
    "print(sentence.find('king'))\n",
    "print(sentence.find('queen'))\n",
    "print(sentence.find('in'))\n",
    "\n",
    "print(sentence.replace('king', 'queen'))\n",
    "print(sentence.replace('jungle', 'castle'))\n",
    "sentence2= sentence.replace('king', 'queen').replace('jungle', 'castle')\n",
    "print(sentence2)"
   ]
  },
  {
   "cell_type": "code",
   "execution_count": 26,
   "metadata": {},
   "outputs": [
    {
     "data": {
      "text/plain": [
       "['The', 'king', 'went', 'to', 'the', 'jungle']"
      ]
     },
     "execution_count": 26,
     "metadata": {},
     "output_type": "execute_result"
    }
   ],
   "source": [
    "sentence.split()"
   ]
  },
  {
   "cell_type": "code",
   "execution_count": 27,
   "metadata": {},
   "outputs": [
    {
     "data": {
      "text/plain": [
       "['apple', ' banana', ' orrange', ' grapes']"
      ]
     },
     "execution_count": 27,
     "metadata": {},
     "output_type": "execute_result"
    }
   ],
   "source": [
    "s3='apple, banana, orrange, grapes'\n",
    "s3.split(',')"
   ]
  },
  {
   "cell_type": "code",
   "execution_count": 31,
   "metadata": {},
   "outputs": [
    {
     "name": "stdout",
     "output_type": "stream",
     "text": [
      "['', 'twinkle, twinkle, little star,', 'how i wonder what you are!', 'up above the world so high,', 'like a diamond in the sky.']\n",
      "['twinkle,', 'twinkle,', 'little', 'star,', 'how', 'i', 'wonder', 'what', 'you', 'are!', 'up', 'above', 'the', 'world', 'so', 'high,', 'like', 'a', 'diamond', 'in', 'the', 'sky.']\n",
      "['\\ntwinkle', ' twinkle', ' little star', '\\nhow i wonder what you are!\\nup above the world so high', '\\nlike a diamond in the sky.']\n"
     ]
    }
   ],
   "source": [
    "poem='''\n",
    "twinkle, twinkle, little star,\n",
    "how i wonder what you are!\n",
    "up above the world so high,\n",
    "like a diamond in the sky.'''\n",
    "\n",
    "print(poem.splitlines())\n",
    "print(poem.split())\n",
    "print(poem.split(','))"
   ]
  },
  {
   "cell_type": "code",
   "execution_count": 41,
   "metadata": {},
   "outputs": [
    {
     "name": "stdout",
     "output_type": "stream",
     "text": [
      "c: home user documents file.text\n",
      "c:/home/user/documents/file.text\n",
      "c:,home,user,documents,file.text\n",
      "c:homeuserdocumentsfile.text\n"
     ]
    }
   ],
   "source": [
    "path=['c:','home', 'user', 'documents', 'file.text']\n",
    "\n",
    "print(' '.join(path))\n",
    "print('/'.join(path))\n",
    "print(','.join(path))\n",
    "print(\"\".join(path))\n"
   ]
  },
  {
   "cell_type": "code",
   "execution_count": null,
   "metadata": {},
   "outputs": [],
   "source": []
  }
 ],
 "metadata": {
  "kernelspec": {
   "display_name": "base",
   "language": "python",
   "name": "python3"
  },
  "language_info": {
   "codemirror_mode": {
    "name": "ipython",
    "version": 3
   },
   "file_extension": ".py",
   "mimetype": "text/x-python",
   "name": "python",
   "nbconvert_exporter": "python",
   "pygments_lexer": "ipython3",
   "version": "3.11.5"
  }
 },
 "nbformat": 4,
 "nbformat_minor": 2
}
